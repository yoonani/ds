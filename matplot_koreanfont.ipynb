{
 "cells": [
  {
   "cell_type": "code",
   "execution_count": 7,
   "metadata": {},
   "outputs": [],
   "source": [
    "# 참고 : https://financedata.github.io/posts/matplotlib-hangul-for-windows-anaconda.html\n",
    "# 참고 : https://github.com/corazzon/TIL/blob/master/notebook/matplotlib_font_setting.ipynb\n",
    "# 그래프를 노트북 안에 그리기 위해 설정\n",
    "%matplotlib inline\n",
    "\n",
    "# 필요한 패키지와 라이브러리를 가져옴\n",
    "import matplotlib as mpl\n",
    "import matplotlib.pyplot as plt\n",
    "import matplotlib.font_manager as fm\n",
    "\n",
    "# 그래프에서 마이너스 폰트 깨지는 문제에 대한 대처\n",
    "mpl.rcParams['axes.unicode_minus'] = False"
   ]
  },
  {
   "cell_type": "code",
   "execution_count": 8,
   "metadata": {},
   "outputs": [
    {
     "data": {
      "text/plain": [
       "'Windows-10-10.0.17134-SP0'"
      ]
     },
     "execution_count": 8,
     "metadata": {},
     "output_type": "execute_result"
    }
   ],
   "source": [
    "# 실행중인 운영체제 확인\n",
    "\n",
    "import platform\n",
    "platform.platform()"
   ]
  },
  {
   "cell_type": "code",
   "execution_count": 9,
   "metadata": {},
   "outputs": [
    {
     "data": {
      "text/plain": [
       "sys.version_info(major=3, minor=6, micro=7, releaselevel='final', serial=0)"
      ]
     },
     "execution_count": 9,
     "metadata": {},
     "output_type": "execute_result"
    }
   ],
   "source": [
    "# 파이썬 버전\n",
    "\n",
    "import sys\n",
    "sys.version_info"
   ]
  },
  {
   "cell_type": "code",
   "execution_count": 2,
   "metadata": {},
   "outputs": [
    {
     "name": "stdout",
     "output_type": "stream",
     "text": [
      "버전:  3.0.2\n",
      "설치 위치:  C:\\Users\\yoonani\\Anaconda3\\envs\\tensorflow\\lib\\site-packages\\matplotlib\\__init__.py\n",
      "설정 위치:  C:\\Users\\yoonani\\.matplotlib\n",
      "캐시 위치:  C:\\Users\\yoonani\\.matplotlib\n",
      "설정파일 위치:  C:\\Users\\yoonani\\Anaconda3\\envs\\tensorflow\\lib\\site-packages\\matplotlib\\mpl-data\\matplotlibrc\n"
     ]
    }
   ],
   "source": [
    "print ('버전: ', mpl.__version__)\n",
    "print ('설치 위치: ', mpl.__file__)\n",
    "print ('설정 위치: ', mpl.get_configdir())\n",
    "print ('캐시 위치: ', mpl.get_cachedir())\n",
    "\n",
    "print ('설정파일 위치: ', mpl.matplotlib_fname())"
   ]
  },
  {
   "cell_type": "code",
   "execution_count": 3,
   "metadata": {},
   "outputs": [
    {
     "name": "stdout",
     "output_type": "stream",
     "text": [
      "817\n"
     ]
    }
   ],
   "source": [
    "font_list = fm.findSystemFonts(fontpaths=None, fontext='ttf')\n",
    "\n",
    "# ttf 폰트 전체갯수\n",
    "print(len(font_list))"
   ]
  },
  {
   "cell_type": "code",
   "execution_count": 4,
   "metadata": {},
   "outputs": [
    {
     "data": {
      "text/plain": [
       "['C:\\\\Windows\\\\Fonts\\\\gadugib.ttf',\n",
       " 'C:\\\\WINDOWS\\\\Fonts\\\\OUTLOOK.TTF',\n",
       " 'C:\\\\Windows\\\\Fonts\\\\ONYX.TTF',\n",
       " 'C:\\\\WINDOWS\\\\Fonts\\\\GILLUBCD.TTF',\n",
       " 'C:\\\\WINDOWS\\\\Fonts\\\\micross.ttf',\n",
       " 'C:\\\\WINDOWS\\\\Fonts\\\\BRLNSR.TTF',\n",
       " 'C:\\\\Windows\\\\Fonts\\\\MAIAN.TTF',\n",
       " 'C:\\\\WINDOWS\\\\Fonts\\\\TEMPSITC.TTF',\n",
       " 'C:\\\\WINDOWS\\\\Fonts\\\\javatext.ttf',\n",
       " 'C:\\\\Windows\\\\Fonts\\\\gabia_bombaram.ttf']"
      ]
     },
     "execution_count": 4,
     "metadata": {},
     "output_type": "execute_result"
    }
   ],
   "source": [
    "font_list[:10]"
   ]
  },
  {
   "cell_type": "code",
   "execution_count": 5,
   "metadata": {},
   "outputs": [
    {
     "name": "stdout",
     "output_type": "stream",
     "text": [
      "817\n"
     ]
    },
    {
     "data": {
      "text/plain": [
       "['cmsy10',\n",
       " 'STIXNonUnicode',\n",
       " 'STIXSizeTwoSym',\n",
       " 'STIXGeneral',\n",
       " 'STIXSizeFourSym',\n",
       " 'DejaVu Sans',\n",
       " 'STIXNonUnicode',\n",
       " 'STIXSizeThreeSym',\n",
       " 'STIXNonUnicode',\n",
       " 'DejaVu Sans Mono']"
      ]
     },
     "execution_count": 5,
     "metadata": {},
     "output_type": "execute_result"
    }
   ],
   "source": [
    "f = [f.name for f in fm.fontManager.ttflist]\n",
    "print(len(font_list))\n",
    "# 10개의 폰트명 만 출력\n",
    "f[:10]"
   ]
  },
  {
   "cell_type": "code",
   "execution_count": 6,
   "metadata": {},
   "outputs": [
    {
     "data": {
      "text/plain": [
       "[('KoPubDotum', 'C:\\\\WINDOWS\\\\Fonts\\\\KoPubDotumLight.ttf'),\n",
       " ('KoPubDotum', 'C:\\\\Windows\\\\Fonts\\\\KoPubDotumBold.ttf'),\n",
       " ('KoPubBatang', 'C:\\\\WINDOWS\\\\Fonts\\\\KoPubBatangMedium.ttf'),\n",
       " ('KoPubBatang', 'C:\\\\WINDOWS\\\\Fonts\\\\KoPubBatangBold.ttf'),\n",
       " ('KoPubDotum', 'C:\\\\WINDOWS\\\\Fonts\\\\KoPubDotumMedium.ttf'),\n",
       " ('KoPubBatang', 'C:\\\\WINDOWS\\\\Fonts\\\\KoPubBatangLight.ttf')]"
      ]
     },
     "execution_count": 6,
     "metadata": {},
     "output_type": "execute_result"
    }
   ],
   "source": [
    "# KoPub 폰트\n",
    "[(f.name, f.fname) for f in fm.fontManager.ttflist if 'KoPub' in f.name]"
   ]
  },
  {
   "cell_type": "markdown",
   "metadata": {},
   "source": [
    "\n",
    "## 폰트를 사용하는 방법 3가지\n",
    "\n",
    "- FontProperties : 그래프의 폰트가 필요한 항목마다 지정해 주어야 합니다.\n",
    "- matplotlib.rcParams[]으로 전역글꼴 설정 : 그래프에 설정을 해주면 폰트가 필요한 항목에 적용 됩니다.\n",
    "- 위의 방법을 mpl.matplotlib_fname()로 읽어지는 설정 파일에 직접 적어주는 방법, 단 모든 노트북에 적용됩니다. 노트북을 열 때마다 지정해 주지 않아도 돼서 편리합니다."
   ]
  },
  {
   "cell_type": "code",
   "execution_count": 10,
   "metadata": {},
   "outputs": [],
   "source": [
    "plt.rcParams[\"axes.grid\"] = True\n",
    "plt.rcParams[\"figure.figsize\"] = (14,4)"
   ]
  },
  {
   "cell_type": "code",
   "execution_count": 12,
   "metadata": {},
   "outputs": [
    {
     "data": {
      "text/plain": [
       "array([-82, -75, -95, -97,   0, -49,  24,  78,  49,  82, -17,  30, 116,\n",
       "       113,  60,  86,  82, 107, 144,  76,  92,  88,  77, 134, 150, 229,\n",
       "       322, 372, 392, 374, 306, 331, 321, 275, 319, 327, 354, 410, 409,\n",
       "       471, 494, 586, 612, 691, 763, 713, 790, 789, 757, 856], dtype=int32)"
      ]
     },
     "execution_count": 12,
     "metadata": {},
     "output_type": "execute_result"
    }
   ],
   "source": [
    "import numpy as np\n",
    "data = np.random.randint(-100, 100, 50).cumsum()\n",
    "data"
   ]
  },
  {
   "cell_type": "code",
   "execution_count": 13,
   "metadata": {},
   "outputs": [
    {
     "data": {
      "text/plain": [
       "Text(0, 0.5, '가격')"
      ]
     },
     "execution_count": 13,
     "metadata": {},
     "output_type": "execute_result"
    },
    {
     "data": {
      "image/png": "[encoded data removed]",
      "text/plain": [
       "<Figure size 1008x288 with 1 Axes>"
      ]
     },
     "metadata": {
      "needs_background": "light"
     },
     "output_type": "display_data"
    }
   ],
   "source": [
    "plt.plot(range(50), data, 'r')\n",
    "plt.title('가격변동 추이')\n",
    "plt.ylabel('가격')"
   ]
  },
  {
   "cell_type": "markdown",
   "metadata": {},
   "source": [
    "## 폰트를 지정하는 두가지 방법\n",
    "\n",
    "matplotlib에서 폰트를 지정하여 출력하는 하는 대표적인 방법은 크게 두 가지\n",
    "\n",
    "- 텍스트 출력시 폰트 특성을 지정: FontProperties 속성으로 폰트 속성을 지정\n",
    "- 전역으로 지정: rcParams 을 사용하여 전역으로 설정값을 지정"
   ]
  },
  {
   "cell_type": "markdown",
   "metadata": {},
   "source": [
    "## 텍스트 출력시 폰트 특성을 지정\n",
    "\n",
    "텍스트를 출력하는 다음 함수들을 사용할 때, fontproperties 인자에 폰트를 지정할 수 있다.\n",
    "\n",
    "matplotlib.pyplot\n",
    "- `title()`\n",
    "- `xlabel()`\n",
    "- `ylabel()`\n",
    "- `legend()`\n",
    "- `text()`\n",
    "\n",
    "matplotlib.axes\n",
    "- `set_title()`\n",
    "\n",
    "예를 들어, 다음과 같이 텍스트와 폰트를 지정하여 출력할 수 있다.\n",
    "> plt.text(0, 0, \"Sample Text\", fontproperties=fontprop)\n",
    "\n"
   ]
  },
  {
   "cell_type": "code",
   "execution_count": 18,
   "metadata": {},
   "outputs": [],
   "source": [
    "font_path = 'c:/Windows/Fonts/KoPubDotumMedium.ttf'\n",
    "fontprop = fm.FontProperties(fname=font_path, size=18)"
   ]
  },
  {
   "cell_type": "code",
   "execution_count": 19,
   "metadata": {},
   "outputs": [
    {
     "data": {
      "image/png": "[encoded data removed]",
      "text/plain": [
       "<Figure size 1008x288 with 1 Axes>"
      ]
     },
     "metadata": {
      "needs_background": "light"
     },
     "output_type": "display_data"
    }
   ],
   "source": [
    "plt.ylabel('가격', fontproperties=fontprop)\n",
    "plt.title('가격변동 추이', fontproperties=fontprop)\n",
    "plt.plot(range(50), data, 'r')\n",
    "plt.show()"
   ]
  },
  {
   "cell_type": "code",
   "execution_count": 21,
   "metadata": {},
   "outputs": [],
   "source": [
    "# matplotlib 의 rc 활용\n",
    "mpl.rc('font', family='KoPubDotum')"
   ]
  },
  {
   "cell_type": "code",
   "execution_count": 23,
   "metadata": {},
   "outputs": [
    {
     "data": {
      "image/png": "[encoded data removed]",
      "text/plain": [
       "<Figure size 1008x288 with 1 Axes>"
      ]
     },
     "metadata": {
      "needs_background": "light"
     },
     "output_type": "display_data"
    }
   ],
   "source": [
    "plt.ylabel('가격')\n",
    "plt.title('가격변동 추이')\n",
    "plt.plot(range(50), data, 'r')\n",
    "plt.show()"
   ]
  },
  {
   "cell_type": "code",
   "execution_count": 24,
   "metadata": {},
   "outputs": [
    {
     "data": {
      "image/png": "[encoded data removed]",
      "text/plain": [
       "<Figure size 1008x288 with 1 Axes>"
      ]
     },
     "metadata": {
      "needs_background": "light"
     },
     "output_type": "display_data"
    }
   ],
   "source": [
    "plt.rcParams[\"font.size\"] = 14\n",
    "plt.rcParams[\"font.family\"] = 'KoPubDotum'\n",
    "plt.rcParams['xtick.labelsize'] = 12.\n",
    "plt.rcParams['ytick.labelsize'] = 12.\n",
    "plt.ylabel('가격')\n",
    "plt.title('가격변동 추이')\n",
    "plt.plot(range(50), data, 'r')\n",
    "plt.show()"
   ]
  },
  {
   "cell_type": "code",
   "execution_count": null,
   "metadata": {},
   "outputs": [],
   "source": []
  }
 ],
 "metadata": {
  "kernelspec": {
   "display_name": "Python 3",
   "language": "python",
   "name": "python3"
  },
  "language_info": {
   "codemirror_mode": {
    "name": "ipython",
    "version": 3
   },
   "file_extension": ".py",
   "mimetype": "text/x-python",
   "name": "python",
   "nbconvert_exporter": "python",
   "pygments_lexer": "ipython3",
   "version": "3.6.7"
  }
 },
 "nbformat": 4,
 "nbformat_minor": 2
}
