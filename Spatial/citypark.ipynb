{
 "cells": [
  {
   "cell_type": "code",
   "execution_count": 1,
   "metadata": {},
   "outputs": [],
   "source": [
    "# from : https://github.com/corazzon/OpenDataWrangling/blob/master/park.ipynb\n",
    "import warnings\n",
    "warnings.filterwarnings('ignore')"
   ]
  },
  {
   "cell_type": "code",
   "execution_count": 11,
   "metadata": {},
   "outputs": [],
   "source": [
    "import pandas as pd\n",
    "import numpy as np\n",
    "import matplotlib as mpl\n",
    "import matplotlib.pyplot as plt\n",
    "from plotnine import *\n",
    "import re\n",
    "\n",
    "# 지도 표현을 위해\n",
    "import folium"
   ]
  },
  {
   "cell_type": "code",
   "execution_count": 12,
   "metadata": {},
   "outputs": [
    {
     "data": {
      "text/plain": [
       "(16096, 19)"
      ]
     },
     "execution_count": 12,
     "metadata": {},
     "output_type": "execute_result"
    }
   ],
   "source": [
    "park = pd.read_csv('../data/city_park.csv')\n",
    "park.shape"
   ]
  },
  {
   "cell_type": "code",
   "execution_count": 6,
   "metadata": {},
   "outputs": [
    {
     "data": {
      "text/html": [
       "<div>\n",
       "<style scoped>\n",
       "    .dataframe tbody tr th:only-of-type {\n",
       "        vertical-align: middle;\n",
       "    }\n",
       "\n",
       "    .dataframe tbody tr th {\n",
       "        vertical-align: top;\n",
       "    }\n",
       "\n",
       "    .dataframe thead th {\n",
       "        text-align: right;\n",
       "    }\n",
       "</style>\n",
       "<table border=\"1\" class=\"dataframe\">\n",
       "  <thead>\n",
       "    <tr style=\"text-align: right;\">\n",
       "      <th></th>\n",
       "      <th>관리번호</th>\n",
       "      <th>공원명</th>\n",
       "      <th>공원구분</th>\n",
       "      <th>소재지도로명주소</th>\n",
       "      <th>소재지지번주소</th>\n",
       "      <th>위도</th>\n",
       "      <th>경도</th>\n",
       "      <th>공원면적</th>\n",
       "      <th>공원보유시설(운동시설)</th>\n",
       "      <th>공원보유시설(유희시설)</th>\n",
       "      <th>공원보유시설(편익시설)</th>\n",
       "      <th>공원보유시설(교양시설)</th>\n",
       "      <th>공원보유시설(기타시설)</th>\n",
       "      <th>지정고시일</th>\n",
       "      <th>관리기관명</th>\n",
       "      <th>전화번호</th>\n",
       "      <th>데이터기준일자</th>\n",
       "      <th>제공기관코드</th>\n",
       "      <th>제공기관명</th>\n",
       "    </tr>\n",
       "  </thead>\n",
       "  <tbody>\n",
       "    <tr>\n",
       "      <th>0</th>\n",
       "      <td>29170-00001</td>\n",
       "      <td>문화근린공원</td>\n",
       "      <td>근린공원</td>\n",
       "      <td>광주광역시 북구 대천로 86</td>\n",
       "      <td>광주광역시 북구 문흥동 1009-1</td>\n",
       "      <td>35.184917</td>\n",
       "      <td>126.916686</td>\n",
       "      <td>87710.3</td>\n",
       "      <td>NaN</td>\n",
       "      <td>NaN</td>\n",
       "      <td>NaN</td>\n",
       "      <td>NaN</td>\n",
       "      <td>NaN</td>\n",
       "      <td>1990-12-31</td>\n",
       "      <td>광주광역시 북구청</td>\n",
       "      <td>062-410-6438</td>\n",
       "      <td>2018-04-17</td>\n",
       "      <td>3620000</td>\n",
       "      <td>광주광역시 북구</td>\n",
       "    </tr>\n",
       "    <tr>\n",
       "      <th>1</th>\n",
       "      <td>29170-00002</td>\n",
       "      <td>두암제1근린공원</td>\n",
       "      <td>근린공원</td>\n",
       "      <td>광주광역시 북구 삼정로 36</td>\n",
       "      <td>광주광역시 북구 두암동 969-4</td>\n",
       "      <td>35.165104</td>\n",
       "      <td>126.937650</td>\n",
       "      <td>13383.5</td>\n",
       "      <td>NaN</td>\n",
       "      <td>NaN</td>\n",
       "      <td>NaN</td>\n",
       "      <td>NaN</td>\n",
       "      <td>NaN</td>\n",
       "      <td>1990-12-12</td>\n",
       "      <td>광주광역시 북구청</td>\n",
       "      <td>062-410-6438</td>\n",
       "      <td>2018-04-17</td>\n",
       "      <td>3620000</td>\n",
       "      <td>광주광역시 북구</td>\n",
       "    </tr>\n",
       "    <tr>\n",
       "      <th>2</th>\n",
       "      <td>29170-00003</td>\n",
       "      <td>첨단체육근린공원</td>\n",
       "      <td>근린공원</td>\n",
       "      <td>광주광역시 북구 임방울대로 877</td>\n",
       "      <td>광주광역시 북구 오룡동 1113</td>\n",
       "      <td>35.220546</td>\n",
       "      <td>126.858765</td>\n",
       "      <td>170920.6</td>\n",
       "      <td>NaN</td>\n",
       "      <td>NaN</td>\n",
       "      <td>NaN</td>\n",
       "      <td>NaN</td>\n",
       "      <td>NaN</td>\n",
       "      <td>1991-12-12</td>\n",
       "      <td>광주광역시 북구청</td>\n",
       "      <td>062-410-6438</td>\n",
       "      <td>2018-04-17</td>\n",
       "      <td>3620000</td>\n",
       "      <td>광주광역시 북구</td>\n",
       "    </tr>\n",
       "    <tr>\n",
       "      <th>3</th>\n",
       "      <td>29170-00004</td>\n",
       "      <td>일곡제1근린공원</td>\n",
       "      <td>근린공원</td>\n",
       "      <td>광주광역시 북구 일곡로 55</td>\n",
       "      <td>광주광역시 북구 일곡동 850-1</td>\n",
       "      <td>35.207975</td>\n",
       "      <td>126.895445</td>\n",
       "      <td>34840.3</td>\n",
       "      <td>NaN</td>\n",
       "      <td>NaN</td>\n",
       "      <td>NaN</td>\n",
       "      <td>NaN</td>\n",
       "      <td>NaN</td>\n",
       "      <td>1993-12-06</td>\n",
       "      <td>광주광역시 북구청</td>\n",
       "      <td>062-410-6438</td>\n",
       "      <td>2018-04-17</td>\n",
       "      <td>3620000</td>\n",
       "      <td>광주광역시 북구</td>\n",
       "    </tr>\n",
       "    <tr>\n",
       "      <th>4</th>\n",
       "      <td>29170-00005</td>\n",
       "      <td>일곡제2근린공원</td>\n",
       "      <td>근린공원</td>\n",
       "      <td>광주광역시 북구 설죽로 526</td>\n",
       "      <td>광주광역시 북구 일곡동 820-2</td>\n",
       "      <td>35.206500</td>\n",
       "      <td>126.898395</td>\n",
       "      <td>10315.0</td>\n",
       "      <td>NaN</td>\n",
       "      <td>NaN</td>\n",
       "      <td>NaN</td>\n",
       "      <td>NaN</td>\n",
       "      <td>NaN</td>\n",
       "      <td>1993-12-06</td>\n",
       "      <td>광주광역시 북구청</td>\n",
       "      <td>062-410-6438</td>\n",
       "      <td>2018-04-17</td>\n",
       "      <td>3620000</td>\n",
       "      <td>광주광역시 북구</td>\n",
       "    </tr>\n",
       "  </tbody>\n",
       "</table>\n",
       "</div>"
      ],
      "text/plain": [
       "          관리번호       공원명  공원구분            소재지도로명주소              소재지지번주소  \\\n",
       "0  29170-00001    문화근린공원  근린공원     광주광역시 북구 대천로 86  광주광역시 북구 문흥동 1009-1   \n",
       "1  29170-00002  두암제1근린공원  근린공원     광주광역시 북구 삼정로 36   광주광역시 북구 두암동 969-4   \n",
       "2  29170-00003  첨단체육근린공원  근린공원  광주광역시 북구 임방울대로 877    광주광역시 북구 오룡동 1113   \n",
       "3  29170-00004  일곡제1근린공원  근린공원     광주광역시 북구 일곡로 55   광주광역시 북구 일곡동 850-1   \n",
       "4  29170-00005  일곡제2근린공원  근린공원    광주광역시 북구 설죽로 526   광주광역시 북구 일곡동 820-2   \n",
       "\n",
       "          위도          경도      공원면적 공원보유시설(운동시설) 공원보유시설(유희시설) 공원보유시설(편익시설)  \\\n",
       "0  35.184917  126.916686   87710.3          NaN          NaN          NaN   \n",
       "1  35.165104  126.937650   13383.5          NaN          NaN          NaN   \n",
       "2  35.220546  126.858765  170920.6          NaN          NaN          NaN   \n",
       "3  35.207975  126.895445   34840.3          NaN          NaN          NaN   \n",
       "4  35.206500  126.898395   10315.0          NaN          NaN          NaN   \n",
       "\n",
       "  공원보유시설(교양시설) 공원보유시설(기타시설)       지정고시일      관리기관명          전화번호     데이터기준일자  \\\n",
       "0          NaN          NaN  1990-12-31  광주광역시 북구청  062-410-6438  2018-04-17   \n",
       "1          NaN          NaN  1990-12-12  광주광역시 북구청  062-410-6438  2018-04-17   \n",
       "2          NaN          NaN  1991-12-12  광주광역시 북구청  062-410-6438  2018-04-17   \n",
       "3          NaN          NaN  1993-12-06  광주광역시 북구청  062-410-6438  2018-04-17   \n",
       "4          NaN          NaN  1993-12-06  광주광역시 북구청  062-410-6438  2018-04-17   \n",
       "\n",
       "    제공기관코드     제공기관명  \n",
       "0  3620000  광주광역시 북구  \n",
       "1  3620000  광주광역시 북구  \n",
       "2  3620000  광주광역시 북구  \n",
       "3  3620000  광주광역시 북구  \n",
       "4  3620000  광주광역시 북구  "
      ]
     },
     "execution_count": 6,
     "metadata": {},
     "output_type": "execute_result"
    }
   ],
   "source": [
    "park.head()"
   ]
  },
  {
   "cell_type": "code",
   "execution_count": 7,
   "metadata": {},
   "outputs": [
    {
     "name": "stdout",
     "output_type": "stream",
     "text": [
      "<class 'pandas.core.frame.DataFrame'>\n",
      "RangeIndex: 16096 entries, 0 to 16095\n",
      "Data columns (total 19 columns):\n",
      "관리번호            16096 non-null object\n",
      "공원명             16096 non-null object\n",
      "공원구분            16096 non-null object\n",
      "소재지도로명주소        8321 non-null object\n",
      "소재지지번주소         15213 non-null object\n",
      "위도              16096 non-null float64\n",
      "경도              16096 non-null float64\n",
      "공원면적            16096 non-null float64\n",
      "공원보유시설(운동시설)    4164 non-null object\n",
      "공원보유시설(유희시설)    6085 non-null object\n",
      "공원보유시설(편익시설)    4344 non-null object\n",
      "공원보유시설(교양시설)    914 non-null object\n",
      "공원보유시설(기타시설)    2503 non-null object\n",
      "지정고시일           13512 non-null object\n",
      "관리기관명           15381 non-null object\n",
      "전화번호            14966 non-null object\n",
      "데이터기준일자         16096 non-null object\n",
      "제공기관코드          16096 non-null object\n",
      "제공기관명           16096 non-null object\n",
      "dtypes: float64(3), object(16)\n",
      "memory usage: 2.3+ MB\n"
     ]
    }
   ],
   "source": [
    "park.info()"
   ]
  },
  {
   "cell_type": "code",
   "execution_count": 8,
   "metadata": {},
   "outputs": [
    {
     "data": {
      "text/plain": [
       "관리번호                0\n",
       "공원명                 0\n",
       "공원구분                0\n",
       "소재지도로명주소         7775\n",
       "소재지지번주소           883\n",
       "위도                  0\n",
       "경도                  0\n",
       "공원면적                0\n",
       "공원보유시설(운동시설)    11932\n",
       "공원보유시설(유희시설)    10011\n",
       "공원보유시설(편익시설)    11752\n",
       "공원보유시설(교양시설)    15182\n",
       "공원보유시설(기타시설)    13593\n",
       "지정고시일            2584\n",
       "관리기관명             715\n",
       "전화번호             1130\n",
       "데이터기준일자             0\n",
       "제공기관코드              0\n",
       "제공기관명               0\n",
       "dtype: int64"
      ]
     },
     "execution_count": 8,
     "metadata": {},
     "output_type": "execute_result"
    }
   ],
   "source": [
    "park.isnull().sum()"
   ]
  },
  {
   "cell_type": "code",
   "execution_count": 9,
   "metadata": {},
   "outputs": [
    {
     "data": {
      "text/plain": [
       "<matplotlib.axes._subplots.AxesSubplot at 0x18df1b0aa90>"
      ]
     },
     "execution_count": 9,
     "metadata": {},
     "output_type": "execute_result"
    },
    {
     "data": {
      "image/png": "[encoded data removed]",
      "text/plain": [
       "<Figure size 1800x720 with 2 Axes>"
      ]
     },
     "metadata": {
      "needs_background": "light"
     },
     "output_type": "display_data"
    }
   ],
   "source": [
    "import missingno as msno\n",
    "\n",
    "msno.matrix(park)"
   ]
  },
  {
   "cell_type": "code",
   "execution_count": 13,
   "metadata": {},
   "outputs": [
    {
     "name": "stdout",
     "output_type": "stream",
     "text": [
      "버전:  3.0.2\n",
      "설치 위치:  C:\\Users\\yoonani\\Anaconda3\\envs\\tensorflow\\lib\\site-packages\\matplotlib\\__init__.py\n",
      "설정 위치:  C:\\Users\\yoonani\\.matplotlib\n",
      "캐시 위치:  C:\\Users\\yoonani\\.matplotlib\n"
     ]
    }
   ],
   "source": [
    "print ('버전: ', mpl.__version__)\n",
    "print ('설치 위치: ', mpl.__file__)\n",
    "print ('설정 위치: ', mpl.get_configdir())\n",
    "print ('캐시 위치: ', mpl.get_cachedir())"
   ]
  },
  {
   "cell_type": "code",
   "execution_count": 14,
   "metadata": {},
   "outputs": [
    {
     "name": "stdout",
     "output_type": "stream",
     "text": [
      "설정파일 위치:  C:\\Users\\yoonani\\Anaconda3\\envs\\tensorflow\\lib\\site-packages\\matplotlib\\mpl-data\\matplotlibrc\n"
     ]
    }
   ],
   "source": [
    "print ('설정파일 위치: ', mpl.matplotlib_fname())"
   ]
  },
  {
   "cell_type": "code",
   "execution_count": 15,
   "metadata": {},
   "outputs": [
    {
     "ename": "NameError",
     "evalue": "name 'fm' is not defined",
     "output_type": "error",
     "traceback": [
      "\u001b[1;31m---------------------------------------------------------------------------\u001b[0m",
      "\u001b[1;31mNameError\u001b[0m                                 Traceback (most recent call last)",
      "\u001b[1;32m<ipython-input-15-4d428c5cdde3>\u001b[0m in \u001b[0;36m<module>\u001b[1;34m\u001b[0m\n\u001b[1;32m----> 1\u001b[1;33m \u001b[0mfont_list\u001b[0m \u001b[1;33m=\u001b[0m \u001b[0mfm\u001b[0m\u001b[1;33m.\u001b[0m\u001b[0mfindSystemFonts\u001b[0m\u001b[1;33m(\u001b[0m\u001b[0mfontpaths\u001b[0m\u001b[1;33m=\u001b[0m\u001b[1;32mNone\u001b[0m\u001b[1;33m,\u001b[0m \u001b[0mfontext\u001b[0m\u001b[1;33m=\u001b[0m\u001b[1;34m'ttf'\u001b[0m\u001b[1;33m)\u001b[0m\u001b[1;33m\u001b[0m\u001b[1;33m\u001b[0m\u001b[0m\n\u001b[0m\u001b[0;32m      2\u001b[0m \u001b[1;33m\u001b[0m\u001b[0m\n\u001b[0;32m      3\u001b[0m \u001b[1;31m# ttf 폰트 전체갯수\u001b[0m\u001b[1;33m\u001b[0m\u001b[1;33m\u001b[0m\u001b[1;33m\u001b[0m\u001b[0m\n\u001b[0;32m      4\u001b[0m \u001b[0mprint\u001b[0m\u001b[1;33m(\u001b[0m\u001b[0mlen\u001b[0m\u001b[1;33m(\u001b[0m\u001b[0mfont_list\u001b[0m\u001b[1;33m)\u001b[0m\u001b[1;33m)\u001b[0m\u001b[1;33m\u001b[0m\u001b[1;33m\u001b[0m\u001b[0m\n",
      "\u001b[1;31mNameError\u001b[0m: name 'fm' is not defined"
     ]
    }
   ],
   "source": [
    "font_list = fm.findSystemFonts(fontpaths=None, fontext='ttf')\n",
    "\n",
    "# ttf 폰트 전체갯수\n",
    "print(len(font_list))"
   ]
  },
  {
   "cell_type": "code",
   "execution_count": null,
   "metadata": {},
   "outputs": [],
   "source": []
  }
 ],
 "metadata": {
  "kernelspec": {
   "display_name": "Python 3",
   "language": "python",
   "name": "python3"
  },
  "language_info": {
   "codemirror_mode": {
    "name": "ipython",
    "version": 3
   },
   "file_extension": ".py",
   "mimetype": "text/x-python",
   "name": "python",
   "nbconvert_exporter": "python",
   "pygments_lexer": "ipython3",
   "version": "3.6.7"
  }
 },
 "nbformat": 4,
 "nbformat_minor": 2
}
