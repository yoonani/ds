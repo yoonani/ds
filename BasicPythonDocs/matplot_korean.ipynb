{
 "cells": [
  {
   "cell_type": "markdown",
   "metadata": {},
   "source": [
    "## Matplotlib  한글 사용하기\n",
    "\n"
   ]
  },
  {
   "cell_type": "code",
   "execution_count": 2,
   "metadata": {},
   "outputs": [],
   "source": [
    "import matplotlib as mpl\n",
    "import matplotlib.pyplot as plt\n",
    "import matplotlib.font_manager as fm"
   ]
  },
  {
   "cell_type": "code",
   "execution_count": 15,
   "metadata": {},
   "outputs": [],
   "source": [
    "import numpy as np\n",
    "\n",
    "np.random.seed(9)"
   ]
  },
  {
   "cell_type": "code",
   "execution_count": 16,
   "metadata": {},
   "outputs": [
    {
     "data": {
      "text/plain": [
       "array([ 1.03741539,  3.87483758,  3.94548177,  8.40596512, 13.3829529 ,\n",
       "       14.21110855, 16.67763465, 16.96362576, 18.55416869, 18.73586471,\n",
       "       21.85586756, 24.31156753, 24.81011684, 34.54986401, 34.69019538,\n",
       "       38.64771696, 41.85081805, 43.55554648, 46.3534714 , 46.56684754,\n",
       "       47.79740135, 49.57732931, 49.62817177, 50.18745921, 52.10847115,\n",
       "       54.7837783 , 57.27598156, 61.05377408, 64.95404632, 66.68989729,\n",
       "       68.76740932, 69.44386778, 69.91073914, 70.24274241, 70.35291738,\n",
       "       75.82779868, 80.373977  , 82.48704645, 86.08319232, 87.04082964,\n",
       "       87.34008431, 87.85590855, 89.80071182, 90.62772769, 92.52000773,\n",
       "       94.05244095, 94.5517417 , 95.09640316, 97.08460121, 98.33592482])"
      ]
     },
     "execution_count": 16,
     "metadata": {},
     "output_type": "execute_result"
    }
   ],
   "source": [
    "# [0., 1.)까지의 난수를 50개 생성하고 여기에 100을 곱해 [0., 100.) 인 난수 생성\n",
    "# 순서대로 정렬\n",
    "# R의 order()와 같은 argsort(x) 함수가 있음\n",
    "randflt = np.sort( np.random.random(50) * 100 )\n",
    "randflt"
   ]
  },
  {
   "cell_type": "code",
   "execution_count": 23,
   "metadata": {},
   "outputs": [
    {
     "name": "stdout",
     "output_type": "stream",
     "text": [
      "[[7 5 1 8 7 8]\n",
      " [2 9 7 7 7 9]\n",
      " [8 4 2 6 4 3]\n",
      " [0 7 5 5 9 6]]\n"
     ]
    }
   ],
   "source": [
    "# numpy random number generator \n",
    "# https://docs.scipy.org/doc/numpy/reference/routines.random.html\n",
    "# RandomState : Container for the Mersenne Twister pseudo-random number generator.\n",
    "rn = np.random.RandomState(4)\n",
    "x = rn.randint(0, 10, (4, 6))\n",
    "print(x)"
   ]
  },
  {
   "cell_type": "code",
   "execution_count": 25,
   "metadata": {},
   "outputs": [
    {
     "data": {
      "text/plain": [
       "array([[0, 4, 1, 5, 4, 3],\n",
       "       [2, 5, 2, 6, 7, 6],\n",
       "       [7, 7, 5, 7, 7, 8],\n",
       "       [8, 9, 7, 8, 9, 9]])"
      ]
     },
     "execution_count": 25,
     "metadata": {},
     "output_type": "execute_result"
    }
   ],
   "source": [
    "# sort each column of X\n",
    "np.sort(x, axis=0)"
   ]
  },
  {
   "cell_type": "code",
   "execution_count": 26,
   "metadata": {},
   "outputs": [
    {
     "data": {
      "text/plain": [
       "array([[1, 5, 7, 7, 8, 8],\n",
       "       [2, 7, 7, 7, 9, 9],\n",
       "       [2, 3, 4, 4, 6, 8],\n",
       "       [0, 5, 5, 6, 7, 9]])"
      ]
     },
     "execution_count": 26,
     "metadata": {},
     "output_type": "execute_result"
    }
   ],
   "source": [
    "np.sort(x, axis=1)"
   ]
  },
  {
   "cell_type": "code",
   "execution_count": null,
   "metadata": {},
   "outputs": [],
   "source": []
  }
 ],
 "metadata": {
  "kernelspec": {
   "display_name": "Python 3",
   "language": "python",
   "name": "python3"
  },
  "language_info": {
   "codemirror_mode": {
    "name": "ipython",
    "version": 3
   },
   "file_extension": ".py",
   "mimetype": "text/x-python",
   "name": "python",
   "nbconvert_exporter": "python",
   "pygments_lexer": "ipython3",
   "version": "3.6.7"
  }
 },
 "nbformat": 4,
 "nbformat_minor": 2
}
